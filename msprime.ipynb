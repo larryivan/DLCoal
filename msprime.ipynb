{
 "cells": [
  {
   "cell_type": "markdown",
   "id": "8db8afea",
   "metadata": {},
   "source": [
    "# To begin with, import the necessary libraries"
   ]
  },
  {
   "cell_type": "code",
   "execution_count": null,
   "id": "99a9080c",
   "metadata": {},
   "outputs": [],
   "source": [
    "    import msprime\n",
    "    from IPython.display import SVG, display\n",
    "\n",
    "    # Simulate an ancestral history for 3 diploid samples under the coalescent\n",
    "    # with recombination on a 5kb region with human-like parameters.\n",
    "    ts = msprime.sim_ancestry(\n",
    "        samples=3,\n",
    "        recombination_rate=1e-8,\n",
    "        sequence_length=5_000,\n",
    "        population_size=10_000,\n",
    "        random_seed=123456)\n",
    "    # Visualise the simulated ancestral history.\n",
    "    SVG(ts.draw_svg())"
   ]
  }
 ],
 "metadata": {
  "kernelspec": {
   "display_name": "DLCoal",
   "language": "python",
   "name": "python3"
  },
  "language_info": {
   "name": "python",
   "version": "3.11.0"
  }
 },
 "nbformat": 4,
 "nbformat_minor": 5
}
